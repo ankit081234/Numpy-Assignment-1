{
 "cells": [
  {
   "cell_type": "markdown",
   "id": "49e34f5e",
   "metadata": {},
   "source": [
    "# Q5-Find Dot product of two arrays"
   ]
  },
  {
   "cell_type": "code",
   "execution_count": 2,
   "id": "304e850b",
   "metadata": {},
   "outputs": [
    {
     "name": "stdout",
     "output_type": "stream",
     "text": [
      "22\n"
     ]
    }
   ],
   "source": [
    "import numpy as np\n",
    "\n",
    "array_1 = np.array([5,3])\n",
    "array_2 = np.array([2,4])\n",
    "print(np.dot(array_1,array_2))"
   ]
  }
 ],
 "metadata": {
  "kernelspec": {
   "display_name": "Python 3",
   "language": "python",
   "name": "python3"
  },
  "language_info": {
   "codemirror_mode": {
    "name": "ipython",
    "version": 3
   },
   "file_extension": ".py",
   "mimetype": "text/x-python",
   "name": "python",
   "nbconvert_exporter": "python",
   "pygments_lexer": "ipython3",
   "version": "3.9.5"
  }
 },
 "nbformat": 4,
 "nbformat_minor": 5
}
