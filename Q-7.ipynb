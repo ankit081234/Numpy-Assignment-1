{
 "cells": [
  {
   "cell_type": "markdown",
   "id": "0b37438b",
   "metadata": {},
   "source": [
    "# Q7-How to get the common items between two python numpy arrays?"
   ]
  },
  {
   "cell_type": "code",
   "execution_count": 6,
   "id": "609328e3",
   "metadata": {},
   "outputs": [
    {
     "name": "stdout",
     "output_type": "stream",
     "text": [
      "Original arrays [2 4 7 1 4]   [7 2 9 0 5]\n",
      "Common values [2 7]\n"
     ]
    }
   ],
   "source": [
    "# Finding common values between 1d arrays\n",
    "import numpy as np\n",
    "    \n",
    "# create 2 arrays\n",
    "a = np.array([2, 4, 7, 1, 4])\n",
    "b = np.array([7, 2, 9, 0, 5])\n",
    "  \n",
    "# Display the arrays\n",
    "print(\"Original arrays\", a, ' ', b)\n",
    "  \n",
    "# use the np.intersect1d method\n",
    "c = np.intersect1d(a, b)\n",
    "  \n",
    "# Display result\n",
    "print(\"Common values\", c)"
   ]
  },
  {
   "cell_type": "code",
   "execution_count": 5,
   "id": "fce55a1b",
   "metadata": {},
   "outputs": [
    {
     "name": "stdout",
     "output_type": "stream",
     "text": [
      "Original arrays\n",
      "[[2 4]\n",
      " [7 1]\n",
      " [4 9]]\n",
      "[[7 2 9]\n",
      " [0 5 3]]\n",
      "Common values [2 7 9]\n"
     ]
    }
   ],
   "source": [
    "# Finding common values between n-dimensional arrays\n",
    "a = np.array([2,4,7,1,4,9]).reshape(3,2)\n",
    "b = np.array([7,2,9,0,5,3]).reshape(2,3)\n",
    "  \n",
    "# Display the arrays\n",
    "print(\"Original arrays\")\n",
    "print(a)\n",
    "print(b)\n",
    "  \n",
    "# use the np.intersect1d method\n",
    "c = np.intersect1d(a,b)\n",
    "  \n",
    "# Display result\n",
    "print(\"Common values\",c)"
   ]
  }
 ],
 "metadata": {
  "kernelspec": {
   "display_name": "Python 3",
   "language": "python",
   "name": "python3"
  },
  "language_info": {
   "codemirror_mode": {
    "name": "ipython",
    "version": 3
   },
   "file_extension": ".py",
   "mimetype": "text/x-python",
   "name": "python",
   "nbconvert_exporter": "python",
   "pygments_lexer": "ipython3",
   "version": "3.9.5"
  }
 },
 "nbformat": 4,
 "nbformat_minor": 5
}
